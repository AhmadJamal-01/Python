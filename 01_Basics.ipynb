{
  "cells": [
    {
      "cell_type": "code",
      "execution_count": null,
      "metadata": {
        "id": "zv68AlAiB2oD",
        "outputId": "d23a8369-859e-407a-b482-3099193cc1f3"
      },
      "outputs": [
        {
          "name": "stdout",
          "output_type": "stream",
          "text": [
            "Hello Ahmad Jamal Here now we working on python 1st class.\n"
          ]
        }
      ],
      "source": [
        "print(\"Hello Ahmad Jamal Here now we working on python 1st class.\")"
      ]
    },
    {
      "cell_type": "code",
      "source": [
        "name: str = 'Helo Ahmad Jamal'\n",
        "print(name)"
      ],
      "metadata": {
        "id": "ySmrEuaCCxuZ",
        "outputId": "905db8f1-3cc1-48b2-9bec-9bb908e3e98c",
        "colab": {
          "base_uri": "https://localhost:8080/"
        }
      },
      "execution_count": null,
      "outputs": [
        {
          "output_type": "stream",
          "name": "stdout",
          "text": [
            "Helo Ahmad Jamal\n"
          ]
        }
      ]
    },
    {
      "cell_type": "markdown",
      "source": [
        "if you want use ' in chracter then you use around \""
      ],
      "metadata": {
        "id": "k8mGDxoZDU7U"
      }
    },
    {
      "cell_type": "code",
      "source": [
        "message:str = \"PIAIC Student Card \\nFather's Name\"\n",
        "print(message)"
      ],
      "metadata": {
        "id": "3Yoy8C57DivH",
        "outputId": "644646f8-5228-40a6-b407-4324edee68d8",
        "colab": {
          "base_uri": "https://localhost:8080/"
        }
      },
      "execution_count": null,
      "outputs": [
        {
          "output_type": "stream",
          "name": "stdout",
          "text": [
            "PIAIC Student Card \n",
            "Father's Name\n"
          ]
        }
      ]
    },
    {
      "cell_type": "markdown",
      "source": [
        "convert any special chracter in simple chracter, place\\ before chracter\n"
      ],
      "metadata": {
        "id": "RENBekltDt7p"
      }
    },
    {
      "cell_type": "code",
      "source": [
        "messages:str='Piaic Student Card\\n father\\'s Name'\n"
      ],
      "metadata": {
        "id": "o9yUerEhDyhv"
      },
      "execution_count": null,
      "outputs": []
    },
    {
      "cell_type": "code",
      "source": [
        "names:str = \"Ahmad Jamal\"\n",
        "fname:str = \"Afzaal Hussain\"\n",
        "education:str =\"Master in Data Science\"\n",
        "age:int = 30\n",
        "\n",
        "card:str =\"Piaic Student Card\\n Student Name:\" + names\n",
        "print(card)"
      ],
      "metadata": {
        "id": "92RAcQ9QD7Mb",
        "outputId": "2fbdc5ba-b89f-4f10-8086-76579c43dc1f",
        "colab": {
          "base_uri": "https://localhost:8080/"
        }
      },
      "execution_count": null,
      "outputs": [
        {
          "output_type": "stream",
          "name": "stdout",
          "text": [
            "Piaic Student Card\n",
            " Student Name:Ahmad Jamal\n"
          ]
        }
      ]
    }
  ],
  "metadata": {
    "kernelspec": {
      "display_name": "Python 3",
      "language": "python",
      "name": "python3"
    },
    "language_info": {
      "codemirror_mode": {
        "name": "ipython",
        "version": 3
      },
      "file_extension": ".py",
      "mimetype": "text/x-python",
      "name": "python",
      "nbconvert_exporter": "python",
      "pygments_lexer": "ipython3",
      "version": "3.12.0"
    },
    "colab": {
      "provenance": [],
      "toc_visible": true
    }
  },
  "nbformat": 4,
  "nbformat_minor": 0
}