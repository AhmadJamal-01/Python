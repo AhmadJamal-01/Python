{
  "nbformat": 4,
  "nbformat_minor": 0,
  "metadata": {
    "colab": {
      "provenance": [],
      "authorship_tag": "ABX9TyNQTtmbgLpd0VJ7G6TnfccF",
      "include_colab_link": true
    },
    "kernelspec": {
      "name": "python3",
      "display_name": "Python 3"
    },
    "language_info": {
      "name": "python"
    }
  },
  "cells": [
    {
      "cell_type": "markdown",
      "metadata": {
        "id": "view-in-github",
        "colab_type": "text"
      },
      "source": [
        "<a href=\"https://colab.research.google.com/github/AhmadJamal-01/Python/blob/main/Assignment_01.ipynb\" target=\"_parent\"><img src=\"https://colab.research.google.com/assets/colab-badge.svg\" alt=\"Open In Colab\"/></a>"
      ]
    },
    {
      "cell_type": "markdown",
      "source": [
        "# Question Number 01:\n",
        "Write a python program that takes a string as input from the user and perform the following two functions:\n",
        "\n",
        "• The string in reverse order\n",
        "\n",
        "• The number of vowels in the string Solution:\n",
        "\n",
        "\n"
      ],
      "metadata": {
        "id": "zvOTBmWR5DyW"
      }
    },
    {
      "cell_type": "code",
      "execution_count": null,
      "metadata": {
        "id": "CRsL10If5qp5",
        "colab": {
          "base_uri": "https://localhost:8080/"
        },
        "outputId": "6afda4c4-46f7-4ace-fe70-d69148a0573f"
      },
      "outputs": [
        {
          "output_type": "stream",
          "name": "stdout",
          "text": [
            "Would you like to tell us your good name, please? Ahmad Jamal\n",
            "Nice to meet you: Ahmad Jamal\n",
            "The Name in reverse order is: lamaJ damhA\n",
            "The total number of vowels in the Name is: 4\n"
          ]
        }
      ],
      "source": [
        "# Take user input\n",
        "user_name = input(\"Would you like to tell us your good name, please? \")\n",
        "\n",
        "# Print the original name\n",
        "print(\"Nice to meet you:\",user_name)\n",
        "\n",
        "# 1. The string in reverse order\n",
        "\n",
        "reversed_name = user_name[::-1]\n",
        "print(\"The Name in reverse order is:\", reversed_name)\n",
        "\n",
        "# 2. The number of vowels in the string\n",
        "vowels = \"aeiouAEIOU\" # List of vowels in both cases\n",
        "count = 0\n",
        "for char in user_name:\n",
        "  if char in vowels:\n",
        "    count += 1\n",
        "print(\"The total number of vowels in the Name is:\", count)"
      ]
    },
    {
      "cell_type": "markdown",
      "source": [
        "# Question Number 02:\n",
        "Create a Python program to check if a user-provided number is even or\n",
        "odd. The program should use the modulo operator (%) to determine the remainder when the\n",
        "number is divided by 2. If the remainder is 0, the number is even; otherwise, it is odd."
      ],
      "metadata": {
        "id": "CwVQm0529RNF"
      }
    },
    {
      "cell_type": "code",
      "source": [
        "def check_even_odd(number):\n",
        " #Determines if a number is even or odd\n",
        "  return \"Even\" if number % 2 == 0 else \"Odd\"\n",
        "# Get user input\n",
        "try:\n",
        " num = int(input(\"Enter a number: \"))\n",
        " result = check_even_odd(num)\n",
        " print(f\"\\nThe number {num} is {result}.\")\n",
        "\n",
        "except ValueError:\n",
        " print(\"Invalid input! Please enter a valid integer.\")\n"
      ],
      "metadata": {
        "colab": {
          "base_uri": "https://localhost:8080/"
        },
        "id": "x40U-gdf9d75",
        "outputId": "35fb40c3-ea71-4416-cc9e-61a3ae0c109f"
      },
      "execution_count": null,
      "outputs": [
        {
          "output_type": "stream",
          "name": "stdout",
          "text": [
            "Enter a number: 54\n",
            "\n",
            "The number 54 is Even.\n"
          ]
        }
      ]
    },
    {
      "cell_type": "markdown",
      "source": [
        "# Question 3:\n",
        "Virtual Environment Application Problem Statement: Create a Python program that:\n",
        "*  Takes a list of integers as input.\n",
        "* Creates a new virtual environment called sortenv.\n",
        "* Installs a package (such as numpy) in the virtual environment.\n",
        "* Sorts the list using numpy.sort().\n",
        "* Prints the sorted list."
      ],
      "metadata": {
        "id": "dtZJiYTm92s1"
      }
    },
    {
      "cell_type": "code",
      "source": [
        "import subprocess\n",
        "import sys\n",
        "import os\n",
        "\n",
        "def create_and_activate_venv():\n",
        "    \"\"\"Create and activate a virtual environment\"\"\"\n",
        "    try:\n",
        "        subprocess.run([sys.executable, \"-m\", \"venv\", \"sortenv\"], check=True)\n",
        "        pip_path = os.path.join(\"sortenv\", \"Scripts\", \"pip\") if os.name == 'nt' else os.path.join(\"sortenv\", \"bin\", \"pip\")\n",
        "        subprocess.run([pip_path, \"install\", \"numpy\"], check=True)\n",
        "        return True\n",
        "    except subprocess.CalledProcessError as e:\n",
        "        print(f\"Error creating virtual environment or installing packages: {e}\")\n",
        "        return False\n",
        "\n",
        "def sort_with_numpy(numbers):\n",
        "    \"\"\"Sort numbers using numpy from the virtual environment\"\"\"\n",
        "    venv_site_packages = os.path.join(\"sortenv\", \"Lib\", \"site-packages\") if os.name == 'nt' else os.path.join(\"sortenv\", \"lib\", \"python{}.{}\".format(sys.version_info.major, sys.version_info.minor), \"site-packages\")\n",
        "    sys.path.insert(0, venv_site_packages)\n",
        "\n",
        "    try:\n",
        "        import numpy as np\n",
        "        return np.sort(numbers)\n",
        "    except ImportError:\n",
        "        print(\"NumPy not found in virtual environment\")\n",
        "        return None\n",
        "\n",
        "def main():\n",
        "    input_str = input(\"Enter a list of integers separated by spaces: \")\n",
        "    numbers = list(map(int, input_str.split()))\n",
        "    if not create_and_activate_venv():\n",
        "        return\n",
        "    sorted_numbers = sort_with_numpy(numbers)\n",
        "    if sorted_numbers is not None:\n",
        "        print(\"Original list:\", numbers)\n",
        "        print(\"Sorted list:\", sorted_numbers)\n",
        "\n",
        "if __name__ == \"__main__\":\n",
        "    main()"
      ],
      "metadata": {
        "id": "6gZSFz_9-AaY"
      },
      "execution_count": null,
      "outputs": []
    },
    {
      "cell_type": "markdown",
      "source": [
        "Enter a list of integers separated by spaces: 2 4 5 7 8 9 1 0\n",
        "* Collecting numpy\n",
        "* Using cached numpy-2.2.4-cp311-cp311-win_amd64.whl (12.9 MB)\n",
        "* Installing collected packages: numpy\n",
        "* Successfully installed numpy-2.2.4\n",
        "\n",
        "* [notice] A new release of pip is available: 23.1.2 -> 25.0.1\n",
        "* [notice] To update, run: E:\\Python\\sortenv\\Scripts\\python.exe -m pip install  --upgrade pip\n",
        "* Original list: [2, 4, 5, 7, 8, 9, 1, 0]\n",
        "* Sorted list: [0 1 2 4 5 7 8 9]"
      ],
      "metadata": {
        "id": "i7XBscdUclG6"
      }
    }
  ]
}