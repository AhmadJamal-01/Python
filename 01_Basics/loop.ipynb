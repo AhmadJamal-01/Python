{
 "cells": [
  {
   "cell_type": "markdown",
   "id": "5d10ce0c",
   "metadata": {},
   "source": [
    "Loops in Python\n",
    "Loops are used to perform repetitive tasks efficiently. Python provides two types of loops:\n",
    "\n",
    "For Loop: Iterates over a sequence (e.g., list, tuple, dictionary).\n",
    "While Loop: Executes a block of code as long as a condition is true.\n",
    "For Loop Syntax\n",
    "\n",
    "for item in sequence:\n",
    "\n",
    "    # Code to execute"
   ]
  },
  {
   "cell_type": "code",
   "execution_count": null,
   "id": "89946d6d",
   "metadata": {
    "vscode": {
     "languageId": "plaintext"
    }
   },
   "outputs": [],
   "source": [
    "numbers = [1, 2, 3, 4, 5]\n",
    "\n",
    "for num in numbers:\n",
    "\n",
    "    print(num)"
   ]
  },
  {
   "cell_type": "markdown",
   "id": "c86a6e9a",
   "metadata": {},
   "source": [
    "Control Statements in Loops\n",
    "\n",
    "Control statements are used to manage the flow of loops.\n",
    "\n",
    "Continue Statement\n",
    "\n",
    "Purpose: Skips the current iteration and moves to the next one.\n",
    "Use Case: Ideal for bypassing specific conditions without stopping the loop."
   ]
  },
  {
   "cell_type": "code",
   "execution_count": null,
   "id": "51c830ad",
   "metadata": {
    "vscode": {
     "languageId": "plaintext"
    }
   },
   "outputs": [],
   "source": [
    "for i in range(10):\n",
    "\n",
    "    if i == 3:\n",
    "\n",
    "        print(\"Skipping 3\")\n",
    "\n",
    "        continue\n",
    "\n",
    "    print(i)"
   ]
  },
  {
   "cell_type": "markdown",
   "id": "ef43f081",
   "metadata": {},
   "source": [
    "Break Statement\n",
    "\n",
    "Purpose: Stops the loop entirely when a condition is met."
   ]
  },
  {
   "cell_type": "code",
   "execution_count": null,
   "id": "af342ebd",
   "metadata": {
    "vscode": {
     "languageId": "plaintext"
    }
   },
   "outputs": [],
   "source": [
    "for i in range(10):\n",
    "\n",
    "    if i == 8:\n",
    "\n",
    "        print(\"Breaking at 8\")\n",
    "\n",
    "        break\n",
    "\n",
    "    print(i)"
   ]
  },
  {
   "cell_type": "markdown",
   "id": "6c3d5592",
   "metadata": {},
   "source": [
    "Else Statement\n",
    "\n",
    "Purpose: Executes when the loop ends naturally (i.e., without a break statement)."
   ]
  },
  {
   "cell_type": "code",
   "execution_count": null,
   "id": "83526939",
   "metadata": {
    "vscode": {
     "languageId": "plaintext"
    }
   },
   "outputs": [],
   "source": [
    "for i in range(5):\n",
    "\n",
    "    print(i)\n",
    "\n",
    "else:\n",
    "\n",
    "    print(\"Loop ended naturally\")"
   ]
  }
 ],
 "metadata": {
  "language_info": {
   "name": "python"
  }
 },
 "nbformat": 4,
 "nbformat_minor": 5
}
