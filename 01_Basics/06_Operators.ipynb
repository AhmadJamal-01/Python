{
 "cells": [
  {
   "cell_type": "markdown",
   "id": "aaa45809",
   "metadata": {},
   "source": [
    "# Given strings, use assignment operators to:\n",
    "name = \"Python\"\n",
    "suffix = \"ing\"\n",
    "\n",
    "# 1. Add \" Programming\" to name using +=\n",
    "# 2. Repeat suffix 3 times using *=\n",
    "# Print both results"
   ]
  },
  {
   "cell_type": "code",
   "execution_count": 6,
   "id": "ecee16bd",
   "metadata": {},
   "outputs": [
    {
     "name": "stdout",
     "output_type": "stream",
     "text": [
      "Updated Name: Python Programming\n",
      "Updated Name: inginginging\n"
     ]
    }
   ],
   "source": [
    "name = \"Python\"\n",
    "suffix = \"ing\"\n",
    "\n",
    "name += \" Programming\"\n",
    "suffix *= 4\n",
    "\n",
    "print ( \"Updated Name:\",name)\n",
    "print ( \"Updated Name:\",suffix)\n"
   ]
  },
  {
   "cell_type": "markdown",
   "id": "65ba2b9b",
   "metadata": {},
   "source": [
    "# List Operation\n",
    "# Given lists, use assignment operators to:\n",
    "numbers = [3, 4, 5]\n",
    "fruits = [\"apple\"]\n",
    "\n",
    "# 1. Add [6, 7, 8] to numbers using +=\n",
    "# 2. Repeat fruits list 3 times using *=\n",
    "# 3. Create a shopping list and keep adding items using +="
   ]
  },
  {
   "cell_type": "code",
   "execution_count": 11,
   "id": "3174d304",
   "metadata": {},
   "outputs": [
    {
     "name": "stdout",
     "output_type": "stream",
     "text": [
      "Updated Numbers: [3, 4, 5, 6, 7, 8]\n",
      "Updated Fruits: ['apple', 'apple', 'apple']\n"
     ]
    }
   ],
   "source": [
    "number = [3, 4, 5]\n",
    "fruits = [\"apple\"]\n",
    "\n",
    "number += [6, 7, 8]\n",
    "fruits *= 3\n",
    "print(\"Updated Numbers:\", number)\n",
    "print(\"Updated Fruits:\", fruits)"
   ]
  },
  {
   "cell_type": "markdown",
   "id": "3b39fbaf",
   "metadata": {},
   "source": [
    "# Create a program that:\n",
    "# 1. Starts with number = 1\n",
    "# 2. Uses *= to double it 5 times\n",
    "# 3. Uses //= to divide by 4 (floor division)\n",
    "# 4. Uses %= to find remainder when divided by 7\n",
    "# 5. Uses **= to raise to power of 2\n",
    "# Print the result after each operation"
   ]
  },
  {
   "cell_type": "code",
   "execution_count": 21,
   "id": "4c64c71d",
   "metadata": {},
   "outputs": [
    {
     "name": "stdout",
     "output_type": "stream",
     "text": [
      "Start from number: 1\n",
      "Result After Doubling: 2\n",
      "Result After Doubling: 4\n",
      "Result After Doubling: 8\n",
      "Result After Doubling: 16\n",
      "Result After Doubling: 32\n",
      "Division by 4 is: 8\n",
      "Reminder when divided by 7 is: 1\n",
      "Square off the number is: 1\n"
     ]
    }
   ],
   "source": [
    "number=1\n",
    "\n",
    "print(\"Start from number:\", number)\n",
    "\n",
    "for i in range (5):\n",
    "    number *= 2 \n",
    "    print(\"Result After Doubling:\", number)\n",
    "\n",
    "number //= 4\n",
    "print(\"Division by 4 is:\", number)\n",
    "number %= 7\n",
    "print(\"Reminder when divided by 7 is:\", number)\n",
    "number **= 2\n",
    "print(\"Square off the number is:\", number)\n",
    "    \n"
   ]
  }
 ],
 "metadata": {
  "kernelspec": {
   "display_name": "Python 3",
   "language": "python",
   "name": "python3"
  },
  "language_info": {
   "codemirror_mode": {
    "name": "ipython",
    "version": 3
   },
   "file_extension": ".py",
   "mimetype": "text/x-python",
   "name": "python",
   "nbconvert_exporter": "python",
   "pygments_lexer": "ipython3",
   "version": "3.12.11"
  }
 },
 "nbformat": 4,
 "nbformat_minor": 5
}
