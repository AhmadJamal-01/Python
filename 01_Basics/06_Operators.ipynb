{
 "cells": [
  {
   "cell_type": "markdown",
   "id": "aaa45809",
   "metadata": {},
   "source": [
    "# Given strings, use assignment operators to:\n",
    "name = \"Python\"\n",
    "suffix = \"ing\"\n",
    "\n",
    "# 1. Add \" Programming\" to name using +=\n",
    "# 2. Repeat suffix 3 times using *=\n",
    "# Print both results"
   ]
  },
  {
   "cell_type": "code",
   "execution_count": 6,
   "id": "ecee16bd",
   "metadata": {},
   "outputs": [
    {
     "name": "stdout",
     "output_type": "stream",
     "text": [
      "Updated Name: Python Programming\n",
      "Updated Name: inginginging\n"
     ]
    }
   ],
   "source": [
    "name = \"Python\"\n",
    "suffix = \"ing\"\n",
    "\n",
    "name += \" Programming\"\n",
    "suffix *= 4\n",
    "\n",
    "print ( \"Updated Name:\",name)\n",
    "print ( \"Updated Name:\",suffix)\n"
   ]
  }
 ],
 "metadata": {
  "kernelspec": {
   "display_name": "Python 3",
   "language": "python",
   "name": "python3"
  },
  "language_info": {
   "codemirror_mode": {
    "name": "ipython",
    "version": 3
   },
   "file_extension": ".py",
   "mimetype": "text/x-python",
   "name": "python",
   "nbconvert_exporter": "python",
   "pygments_lexer": "ipython3",
   "version": "3.12.11"
  }
 },
 "nbformat": 4,
 "nbformat_minor": 5
}
