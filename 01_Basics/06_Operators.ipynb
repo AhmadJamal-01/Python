{
 "cells": [
  {
   "cell_type": "markdown",
   "id": "aaa45809",
   "metadata": {},
   "source": [
    "# Given strings, use assignment operators to:\n",
    "name = \"Python\"\n",
    "suffix = \"ing\"\n",
    "\n",
    "# 1. Add \" Programming\" to name using +=\n",
    "# 2. Repeat suffix 3 times using *=\n",
    "# Print both results"
   ]
  },
  {
   "cell_type": "code",
   "execution_count": 6,
   "id": "ecee16bd",
   "metadata": {},
   "outputs": [
    {
     "name": "stdout",
     "output_type": "stream",
     "text": [
      "Updated Name: Python Programming\n",
      "Updated Name: inginginging\n"
     ]
    }
   ],
   "source": [
    "name = \"Python\"\n",
    "suffix = \"ing\"\n",
    "\n",
    "name += \" Programming\"\n",
    "suffix *= 4\n",
    "\n",
    "print ( \"Updated Name:\",name)\n",
    "print ( \"Updated Name:\",suffix)\n"
   ]
  },
  {
   "cell_type": "markdown",
   "id": "65ba2b9b",
   "metadata": {},
   "source": [
    "# List Operation\n",
    "# Given lists, use assignment operators to:\n",
    "numbers = [3, 4, 5]\n",
    "fruits = [\"apple\"]\n",
    "\n",
    "# 1. Add [6, 7, 8] to numbers using +=\n",
    "# 2. Repeat fruits list 3 times using *=\n",
    "# 3. Create a shopping list and keep adding items using +="
   ]
  },
  {
   "cell_type": "code",
   "execution_count": 11,
   "id": "3174d304",
   "metadata": {},
   "outputs": [
    {
     "name": "stdout",
     "output_type": "stream",
     "text": [
      "Updated Numbers: [3, 4, 5, 6, 7, 8]\n",
      "Updated Fruits: ['apple', 'apple', 'apple']\n"
     ]
    }
   ],
   "source": [
    "number = [3, 4, 5]\n",
    "fruits = [\"apple\"]\n",
    "\n",
    "number += [6, 7, 8]\n",
    "fruits *= 3\n",
    "print(\"Updated Numbers:\", number)\n",
    "print(\"Updated Fruits:\", fruits)"
   ]
  },
  {
   "cell_type": "markdown",
   "id": "3b39fbaf",
   "metadata": {},
   "source": [
    "# Create a program that:\n",
    "# 1. Starts with number = 1\n",
    "# 2. Uses *= to double it 5 times\n",
    "# 3. Uses //= to divide by 4 (floor division)\n",
    "# 4. Uses %= to find remainder when divided by 7\n",
    "# 5. Uses **= to raise to power of 2\n",
    "# Print the result after each operation"
   ]
  },
  {
   "cell_type": "code",
   "execution_count": 21,
   "id": "4c64c71d",
   "metadata": {},
   "outputs": [
    {
     "name": "stdout",
     "output_type": "stream",
     "text": [
      "Start from number: 1\n",
      "Result After Doubling: 2\n",
      "Result After Doubling: 4\n",
      "Result After Doubling: 8\n",
      "Result After Doubling: 16\n",
      "Result After Doubling: 32\n",
      "Division by 4 is: 8\n",
      "Reminder when divided by 7 is: 1\n",
      "Square off the number is: 1\n"
     ]
    }
   ],
   "source": [
    "number=1\n",
    "\n",
    "print(\"Start from number:\", number)\n",
    "\n",
    "for i in range (5):\n",
    "    number *= 2 \n",
    "    print(\"Result After Doubling:\", number)\n",
    "\n",
    "number //= 4\n",
    "print(\"Division by 4 is:\", number)\n",
    "number %= 7\n",
    "print(\"Reminder when divided by 7 is:\", number)\n",
    "number **= 2\n",
    "print(\"Square off the number is:\", number)\n",
    "    \n"
   ]
  },
  {
   "cell_type": "markdown",
   "id": "1e50d116",
   "metadata": {},
   "source": [
    "# Given number = 12, use bitwise assignment operators:\n",
    "# 1. Use &= with 7\n",
    "# 2. Use |= with 5  \n",
    "# 3. Use ^= with 3\n",
    "# 4. Use <<= to shift left by 2\n",
    "# 5. Use >>= to shift right by 1\n",
    "# Print binary representation and decimal value after each step"
   ]
  },
  {
   "cell_type": "code",
   "execution_count": 14,
   "id": "d4ad0a2f",
   "metadata": {},
   "outputs": [
    {
     "name": "stdout",
     "output_type": "stream",
     "text": [
      "Intial Number: 12\n",
      "Decimal Number: 12\n",
      "Binary Number: 0b1100\n",
      "\n",
      "After &= 7\n",
      "Decimal Number: 4\n",
      "Binary Number: 0b100\n",
      "\n",
      "After |= 5\n",
      "Decimal Number: 5\n",
      "Binary number: 0b101\n",
      "\n",
      "After ^= 3\n",
      "Decimal Number: 6\n",
      "Binary Number; 0b110\n",
      "\n",
      "After <<=2\n",
      "Decimal Number: 24\n",
      "Binary Number: 0b11000\n",
      "\n",
      "After >>=1\n",
      "Decimal Number: 12\n",
      "Binary Number: 0b1100\n"
     ]
    }
   ],
   "source": [
    "initial_Number = 12\n",
    "\n",
    "print(\"Intial Number:\", initial_Number)\n",
    "print(\"Decimal Number:\", initial_Number)\n",
    "print(\"Binary Number:\", bin(initial_Number) )\n",
    "\n",
    "#1. Use &= with 7\n",
    "\n",
    "initial_Number &= 7\n",
    "\n",
    "print(\"\\nAfter &= 7\")\n",
    "print(\"Decimal Number:\", initial_Number)\n",
    "print(\"Binary Number:\", bin(initial_Number))\n",
    "\n",
    "#2. Use |= with 5\n",
    "initial_Number |= 5\n",
    "print(\"\\nAfter |= 5\")\n",
    "print(\"Decimal Number:\", initial_Number)\n",
    "print(\"Binary number:\", bin(initial_Number))\n",
    "\n",
    "\n",
    "#3. Use ^= with 3\n",
    "initial_Number ^= 3\n",
    "print(\"\\nAfter ^= 3\")\n",
    "print(\"Decimal Number:\", initial_Number)\n",
    "print(\"Binary Number;\", bin(initial_Number))\n",
    "\n",
    "#4. Use <<= 2\n",
    "initial_Number <<= 2\n",
    "print(\"\\nAfter <<=2\")\n",
    "print(\"Decimal Number:\", initial_Number)\n",
    "print(\"Binary Number:\", bin(initial_Number))\n",
    "\n",
    "#5. Use >>= 1\n",
    "initial_Number >>=1\n",
    "print(\"\\nAfter >>=1\")\n",
    "print(\"Decimal Number:\", initial_Number)\n",
    "print(\"Binary Number:\", bin(initial_Number))\n",
    "\n",
    "\n",
    "\n"
   ]
  },
  {
   "cell_type": "markdown",
   "id": "9d7d85d8",
   "metadata": {},
   "source": [
    "# Create a calculator that:\n",
    "# 1. Takes an initial value\n",
    "# 2. Performs a series of operations using assignment operators\n",
    "# 3. Keeps track of operation history\n",
    "# 4. Allows undo functionality\n",
    "\n",
    "# Example operations: +=, -=, *=, /=, **=, %="
   ]
  },
  {
   "cell_type": "code",
   "execution_count": null,
   "id": "afaef1fa",
   "metadata": {},
   "outputs": [
    {
     "name": "stdout",
     "output_type": "stream",
     "text": [
      "\n",
      "Choose an operation: +=, -=, *=, /=, **=, %= or 'undo' or 'exit'\n",
      "Invalid operation.\n",
      "\n",
      "Choose an operation: +=, -=, *=, /=, **=, %= or 'undo' or 'exit'\n",
      "Invalid input. Please enter a number.\n",
      "\n",
      "Choose an operation: +=, -=, *=, /=, **=, %= or 'undo' or 'exit'\n",
      "Invalid input. Please enter a number.\n",
      "\n",
      "Choose an operation: +=, -=, *=, /=, **=, %= or 'undo' or 'exit'\n",
      "Invalid operation.\n",
      "\n",
      "Choose an operation: +=, -=, *=, /=, **=, %= or 'undo' or 'exit'\n"
     ]
    }
   ],
   "source": [
    "print(\"Welcome to Self Calculator \\n\")\n",
    "# Take first number input\n",
    "# This calculator supports basic arithmetic operations and has undo functionality.\n",
    "# It allows users to perform operations like addition, subtraction, multiplication, division, exponentiation,\n",
    "first_number = float(input(\"Enter a first number:\" ))\n",
    "print(\"First Number:\", first_number)\n",
    "\n",
    "history = [] # To keep history of operations for undo\n",
    "\n",
    "while True:\n",
    "    print(\"\\n Choose an Operators: (+, -, *, /, //, %, **, undo, redo)\")\n",
    "    op = input(\"Enter an operator:\")\n",
    "\n",
    "    if op == 'exit' :\n",
    "        print(\"Final result:\", first_number)\n",
    "        break\n",
    "\n",
    "    if op == 'undo':\n",
    "        if history:\n",
    "            number = history.pop()\n",
    "            print(\"Undo Performed. Current Value:\", first_number)\n",
    "        else:\n",
    "            print(\"Nothing to undo.\")\n",
    "            continue\n",
    "    history.append(first_number)\n",
    "    try:\n",
    "        value = float(input(\"Enter a second number: \"))\n",
    "\n",
    "        if op == '+':\n",
    "            first_number += value\n",
    "        elif op == '-':\n",
    "            first_number -= value\n",
    "        elif op == '*':\n",
    "            first_number *= value\n",
    "        elif op == '/':\n",
    "            if value !=0:\n",
    "                first_number /= value\n",
    "            else:\n",
    "                print(\"Enter a non-zero value for division.\")\n",
    "                history.pop()\n",
    "                continue\n",
    "    except ValueError:\n",
    "        print(\"Invalid input. Please enter a valid number.\")\n",
    "        history.pop()\n",
    "\n"
   ]
  }
 ],
 "metadata": {
  "kernelspec": {
   "display_name": "operators_env",
   "language": "python",
   "name": "python3"
  },
  "language_info": {
   "codemirror_mode": {
    "name": "ipython",
    "version": 3
   },
   "file_extension": ".py",
   "mimetype": "text/x-python",
   "name": "python",
   "nbconvert_exporter": "python",
   "pygments_lexer": "ipython3",
   "version": "3.10.18"
  }
 },
 "nbformat": 4,
 "nbformat_minor": 5
}
