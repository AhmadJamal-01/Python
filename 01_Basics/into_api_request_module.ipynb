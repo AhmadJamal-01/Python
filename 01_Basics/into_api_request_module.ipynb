{
 "cells": [
  {
   "cell_type": "markdown",
   "id": "6e713ced",
   "metadata": {},
   "source": [
    "How Do APIs Work?\n",
    "Request: The client sends a request to the API specifying what data or action is required.\n",
    "\n",
    "Processing: The server receives the request, processes it, and prepares a response.\n",
    "\n",
    "Response: The API sends the processed data or confirmation back to the client."
   ]
  },
  {
   "cell_type": "markdown",
   "id": "689e4048",
   "metadata": {},
   "source": []
  }
 ],
 "metadata": {
  "language_info": {
   "name": "python"
  }
 },
 "nbformat": 4,
 "nbformat_minor": 5
}
