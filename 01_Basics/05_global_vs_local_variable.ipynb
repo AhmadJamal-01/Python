{
 "cells": [
  {
   "cell_type": "markdown",
   "id": "3cb83660",
   "metadata": {},
   "source": [
    "Local Variables\n",
    "Local variables are those defined within a function. They are only accessible within the function and cannot be accessed outside of it. To help visualize this, consider the example of a classroom whiteboard:\n",
    "\n",
    "Classroom Whiteboard: The content written on it can only be seen by those within the classroom during the session. This represents a local variable, as its scope is limited to that particular function (or classroom).\n",
    "\n",
    "Exxample:\n",
    "In this case, the function can access the global variable x but y can only be accessed within my_function().\n",
    "\n"
   ]
  },
  {
   "cell_type": "code",
   "execution_count": null,
   "id": "b2c6ef59",
   "metadata": {
    "vscode": {
     "languageId": "plaintext"
    }
   },
   "outputs": [],
   "source": [
    "def my_function():\n",
    "\n",
    "    y = 5  # Local variable inside the function\n",
    "\n",
    "    print(\"Inside function: x =\", x, \"y =\", y)\n",
    "\n",
    " \n",
    "\n",
    "x = 10  # Global variable outside the function\n",
    "\n",
    "my_function()  # Calling the function"
   ]
  },
  {
   "cell_type": "markdown",
   "id": "ef3f911c",
   "metadata": {},
   "source": [
    "Global Variables\n",
    "Global variables are defined outside of functions and are accessible throughout the entire program. In our analogy, the school's notice board can be seen by everyone in the school, not just those in a specific class. Similarly, a global variable can be accessed by any function in the program.\n",
    "\n",
    "Example:\n",
    "Here, the variable x is global, so it can be accessed both inside and outside the function.\n",
    "\n"
   ]
  },
  {
   "cell_type": "code",
   "execution_count": null,
   "id": "987780ed",
   "metadata": {
    "vscode": {
     "languageId": "plaintext"
    }
   },
   "outputs": [],
   "source": [
    "x = 10  # Global variable\n",
    "\n",
    "def my_function():\n",
    "\n",
    "    y = 5  # Local variable\n",
    "\n",
    "    print(\"Inside function: x =\", x, \"y =\", y)\n",
    "\n",
    " \n",
    "\n",
    "my_function()  # Calling the function\n",
    "\n",
    "print(\"Outside function: x =\", x)"
   ]
  },
  {
   "cell_type": "markdown",
   "id": "34e4530f",
   "metadata": {},
   "source": [
    "Practical Example: Local vs. Global Variables\n",
    "In the example below, we try to access a global variable inside a function, which works fine. However, attempting to access a local variable outside the function results in an error because local variables are confined to the function's scope."
   ]
  },
  {
   "cell_type": "code",
   "execution_count": null,
   "id": "96e77ef8",
   "metadata": {
    "vscode": {
     "languageId": "plaintext"
    }
   },
   "outputs": [],
   "source": [
    "x = 10  # Global variable\n",
    "\n",
    "def my_function():\n",
    "\n",
    "    y = 5  # Local variable\n",
    "\n",
    "    print(\"Inside function: x =\", x, \"y =\", y)\n",
    "\n",
    "my_function()\n",
    "\n",
    "print(\"Outside function: x =\", x)\n",
    "\n",
    " \n",
    "\n",
    "# Trying to access the local variable 'y' outside the function will result in an error.\n",
    "\n",
    "# print(\"Outside function: y =\", y)  # This will give an error: name 'y' is not defined"
   ]
  },
  {
   "cell_type": "markdown",
   "id": "af36ac22",
   "metadata": {},
   "source": [
    "Comparing Memory Locations: is vs ==\n",
    "In Python, we can check if two variables refer to the same object in memory using the is operator, and we can check if their values are equal using ==.\n",
    "\n",
    "Example:\n",
    "Even though the lists a and b have the same values, they are stored at different memory locations. Therefore, a is b returns False."
   ]
  },
  {
   "cell_type": "code",
   "execution_count": null,
   "id": "262437cf",
   "metadata": {
    "vscode": {
     "languageId": "plaintext"
    }
   },
   "outputs": [],
   "source": [
    "a = [1, 2, 3]\n",
    "\n",
    "b = [1, 2, 3]\n",
    "\n",
    "# Comparing values\n",
    "\n",
    "print(a == b)  # Output: True\n",
    "\n",
    "# Comparing memory locations\n",
    "\n",
    "print(a is b)  # Output: False"
   ]
  }
 ],
 "metadata": {
  "language_info": {
   "name": "python"
  }
 },
 "nbformat": 4,
 "nbformat_minor": 5
}
