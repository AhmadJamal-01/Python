{
 "cells": [
  {
   "cell_type": "markdown",
   "id": "2984d047",
   "metadata": {},
   "source": [
    "Python Built-in Functions\n",
    "Python provides many built-in functions to perform common tasks.\n",
    "\n",
    "\n"
   ]
  },
  {
   "cell_type": "code",
   "execution_count": null,
   "id": "47bc3efa",
   "metadata": {
    "vscode": {
     "languageId": "plaintext"
    }
   },
   "outputs": [],
   "source": [
    "#len():\n",
    "#Returns the length of an object (string, list, etc.)\n",
    "\n",
    "text = \"Python\"\n",
    "\n",
    "print(len(text)) \n",
    "\n",
    "#max()\n",
    "#Returns the maximum value from a list.\n",
    "\n",
    "numbers = [1, 2, 3, 4, 5]\n",
    "\n",
    "print(max(numbers))\n",
    "\n",
    "#sorted():\n",
    "#Sorts a list in ascending order.\n",
    "\n",
    "ratings = [4.2, 3.5, 5.0, 3.8]\n",
    "\n",
    "print(sorted(ratings)) \n",
    "\n",
    "#range():\n",
    "#Generates a sequence of numbers.\n",
    "\n",
    "for i in range(5):\n",
    "\n",
    "    print(i)  \n",
    "\n",
    "#id():\n",
    "#Returns the memory address of an object.\n",
    "\n",
    "x = 10\n",
    "\n",
    "print(id(x)) \n",
    "\n",
    "#eval():\n",
    "#Evaluates a string as a Python expression.\n",
    "\n",
    "expression = \"5 + 3 * 2\"\n",
    "\n",
    "result = eval(expression)\n",
    "\n",
    "print(result) "
   ]
  },
  {
   "cell_type": "code",
   "execution_count": null,
   "id": "50206d30",
   "metadata": {
    "vscode": {
     "languageId": "plaintext"
    }
   },
   "outputs": [],
   "source": []
  }
 ],
 "metadata": {
  "language_info": {
   "name": "python"
  }
 },
 "nbformat": 4,
 "nbformat_minor": 5
}
