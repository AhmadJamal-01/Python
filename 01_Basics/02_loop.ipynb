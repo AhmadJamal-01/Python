{
 "cells": [
  {
   "cell_type": "markdown",
   "id": "5d10ce0c",
   "metadata": {},
   "source": [
    "Loops in Python\n",
    "Loops are used to perform repetitive tasks efficiently. Python provides two types of loops:\n",
    "\n",
    "For Loop: Iterates over a sequence (e.g., list, tuple, dictionary).\n",
    "While Loop: Executes a block of code as long as a condition is true.\n",
    "For Loop Syntax\n",
    "\n",
    "for item in sequence:\n",
    "\n",
    "    # Code to execute"
   ]
  },
  {
   "cell_type": "code",
   "execution_count": null,
   "id": "89946d6d",
   "metadata": {
    "vscode": {
     "languageId": "plaintext"
    }
   },
   "outputs": [],
   "source": [
    "numbers = [1, 2, 3, 4, 5]\n",
    "\n",
    "for num in numbers:\n",
    "\n",
    "    print(num)"
   ]
  },
  {
   "cell_type": "markdown",
   "id": "c86a6e9a",
   "metadata": {},
   "source": [
    "Control Statements in Loops\n",
    "\n",
    "Control statements are used to manage the flow of loops.\n",
    "\n",
    "Continue Statement\n",
    "\n",
    "Purpose: Skips the current iteration and moves to the next one.\n",
    "Use Case: Ideal for bypassing specific conditions without stopping the loop."
   ]
  },
  {
   "cell_type": "code",
   "execution_count": null,
   "id": "51c830ad",
   "metadata": {
    "vscode": {
     "languageId": "plaintext"
    }
   },
   "outputs": [],
   "source": [
    "for i in range(10):\n",
    "\n",
    "    if i == 3:\n",
    "\n",
    "        print(\"Skipping 3\")\n",
    "\n",
    "        continue\n",
    "\n",
    "    print(i)"
   ]
  },
  {
   "cell_type": "markdown",
   "id": "ef43f081",
   "metadata": {},
   "source": [
    "Break Statement\n",
    "\n",
    "Purpose: Stops the loop entirely when a condition is met."
   ]
  },
  {
   "cell_type": "code",
   "execution_count": null,
   "id": "af342ebd",
   "metadata": {
    "vscode": {
     "languageId": "plaintext"
    }
   },
   "outputs": [],
   "source": [
    "for i in range(10):\n",
    "\n",
    "    if i == 8:\n",
    "\n",
    "        print(\"Breaking at 8\")\n",
    "\n",
    "        break\n",
    "\n",
    "    print(i)"
   ]
  },
  {
   "cell_type": "markdown",
   "id": "6c3d5592",
   "metadata": {},
   "source": [
    "Else Statement\n",
    "\n",
    "Purpose: Executes when the loop ends naturally (i.e., without a break statement)."
   ]
  },
  {
   "cell_type": "code",
   "execution_count": null,
   "id": "83526939",
   "metadata": {
    "vscode": {
     "languageId": "plaintext"
    }
   },
   "outputs": [],
   "source": [
    "for i in range(5):\n",
    "\n",
    "    print(i)\n",
    "\n",
    "else:\n",
    "\n",
    "    print(\"Loop ended naturally\")"
   ]
  },
  {
   "cell_type": "markdown",
   "id": "86fddb03",
   "metadata": {},
   "source": [
    "Working with Lists and Indexing\n",
    "\n",
    "Lists are collections of items, and each item has an index (starting from 0).\n",
    "\n",
    "Enumerate Function\n",
    "\n",
    "Purpose: Used to iterate over a list while accessing both the index and the item."
   ]
  },
  {
   "cell_type": "code",
   "execution_count": null,
   "id": "47d0ec66",
   "metadata": {
    "vscode": {
     "languageId": "plaintext"
    }
   },
   "outputs": [],
   "source": [
    "fruits = [\"apple\", \"banana\", \"cherry\"]\n",
    "\n",
    "for index, fruit in enumerate(fruits):\n",
    "\n",
    "    print(f\"Index {index}: {fruit}\")"
   ]
  },
  {
   "cell_type": "markdown",
   "id": "144cca66",
   "metadata": {},
   "source": [
    "Manual Indexing Without enumerate, you can manually track the index."
   ]
  },
  {
   "cell_type": "code",
   "execution_count": null,
   "id": "78e41bab",
   "metadata": {
    "vscode": {
     "languageId": "plaintext"
    }
   },
   "outputs": [],
   "source": [
    "fruits = [\"apple\", \"banana\", \"cherry\"]\n",
    "\n",
    "index = 0\n",
    "\n",
    "for fruit in fruits:\n",
    "\n",
    "    print(f\"Index {index}: {fruit}\")\n",
    "\n",
    "    index += 1"
   ]
  },
  {
   "cell_type": "markdown",
   "id": "a82e6b77",
   "metadata": {},
   "source": [
    "Iterating Over Dictionaries\n",
    "\n",
    "Dictionaries store data in key-value pairs. You can iterate over keys, values, or both."
   ]
  },
  {
   "cell_type": "code",
   "execution_count": null,
   "id": "f802facb",
   "metadata": {
    "vscode": {
     "languageId": "plaintext"
    }
   },
   "outputs": [],
   "source": [
    "person = {\"name\": \"John\", \"age\": 30, \"city\": \"New York\"}\n",
    "\n",
    "for key in person:\n",
    "\n",
    "    print(key)\n",
    "\n",
    "\n",
    "    \n",
    "#Iterating Over Key-Value Pairs\n",
    "\n",
    "for key, value in person.items():\n",
    "\n",
    "    print(f\"{key}: {value}\")"
   ]
  },
  {
   "cell_type": "code",
   "execution_count": null,
   "id": "659ac406",
   "metadata": {
    "vscode": {
     "languageId": "plaintext"
    }
   },
   "outputs": [],
   "source": [
    "for i in range(10):\n",
    "\n",
    "    if i == 3:\n",
    "\n",
    "        print(\"Skipping 3\")\n",
    "\n",
    "        continue\n",
    "\n",
    "    if i == 8:\n",
    "\n",
    "        print(\"Breaking at 8\")\n",
    "\n",
    "        break\n",
    "\n",
    "    print(i)\n",
    "\n",
    "else:\n",
    "\n",
    "    print(\"Loop ended naturally\")"
   ]
  }
 ],
 "metadata": {
  "language_info": {
   "name": "python"
  }
 },
 "nbformat": 4,
 "nbformat_minor": 5
}
