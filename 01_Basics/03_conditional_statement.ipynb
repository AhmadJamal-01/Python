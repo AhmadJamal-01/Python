{
 "cells": [
  {
   "cell_type": "markdown",
   "id": "ca2cd511",
   "metadata": {},
   "source": [
    "if Statement"
   ]
  },
  {
   "cell_type": "code",
   "execution_count": null,
   "id": "e634114e",
   "metadata": {
    "vscode": {
     "languageId": "plaintext"
    }
   },
   "outputs": [],
   "source": [
    "traffic_light = \"green\"\n",
    "\n",
    "if traffic_light == \"green\":\n",
    "\n",
    "    print(\"You can go\")"
   ]
  },
  {
   "cell_type": "markdown",
   "id": "240cd75d",
   "metadata": {},
   "source": [
    "else Statement"
   ]
  },
  {
   "cell_type": "code",
   "execution_count": null,
   "id": "b3307b8a",
   "metadata": {
    "vscode": {
     "languageId": "plaintext"
    }
   },
   "outputs": [],
   "source": [
    "traffic_light = \"red\"\n",
    "\n",
    "if traffic_light == \"green\":\n",
    "\n",
    "    print(\"You can go\")\n",
    "\n",
    "else:\n",
    "\n",
    "    print(\"You must stop\")"
   ]
  },
  {
   "cell_type": "markdown",
   "id": "bc25c6a0",
   "metadata": {},
   "source": [
    "elif Statement"
   ]
  },
  {
   "cell_type": "code",
   "execution_count": null,
   "id": "bdf6f100",
   "metadata": {
    "vscode": {
     "languageId": "plaintext"
    }
   },
   "outputs": [],
   "source": [
    "traffic_light = \"yellow\"\n",
    "\n",
    "if traffic_light == \"green\":\n",
    "\n",
    "    print(\"You can go\")\n",
    "\n",
    "elif traffic_light == \"yellow\":\n",
    "\n",
    "    print(\"Slow down and prepare to stop\")\n",
    "\n",
    "else:\n",
    "\n",
    "    print(\"You must stop\")"
   ]
  },
  {
   "cell_type": "markdown",
   "id": "f68d09d4",
   "metadata": {},
   "source": [
    "Nested Conditions\n",
    "\n",
    "Nested conditions are used when you need to check multiple conditions within a condition."
   ]
  },
  {
   "cell_type": "code",
   "execution_count": null,
   "id": "548022e7",
   "metadata": {
    "vscode": {
     "languageId": "plaintext"
    }
   },
   "outputs": [],
   "source": [
    "car_speed = 60\n",
    "\n",
    "seat_belt = True\n",
    "\n",
    "if car_speed <= 60:\n",
    "\n",
    "    if seat_belt:\n",
    "\n",
    "        print(\"You are driving safely\")\n",
    "\n",
    "    else:\n",
    "\n",
    "        print(\"Please wear your seat belt\")\n",
    "\n",
    "else:\n",
    "\n",
    "    print(\"Slow down, you are exceeding the speed limit\")"
   ]
  },
  {
   "cell_type": "markdown",
   "id": "6e25582d",
   "metadata": {},
   "source": [
    "Logical Operators in Conditional Statements\n",
    "\n",
    "Logical operators (and, or, not) are used to combine multiple conditions."
   ]
  },
  {
   "cell_type": "code",
   "execution_count": null,
   "id": "c3632b1c",
   "metadata": {
    "vscode": {
     "languageId": "plaintext"
    }
   },
   "outputs": [],
   "source": [
    "pedestrian_signal = \"walk\"\n",
    "\n",
    "is_flashing = False\n",
    "\n",
    "if pedestrian_signal == \"walk\" and not is_flashing:\n",
    "\n",
    "    print(\"Pedestrian can cross safely\")\n",
    "\n",
    "else:\n",
    "\n",
    "    print(\"Pedestrian should wait\")"
   ]
  },
  {
   "cell_type": "markdown",
   "id": "4e696b3e",
   "metadata": {},
   "source": [
    "OR Operator"
   ]
  },
  {
   "cell_type": "code",
   "execution_count": null,
   "id": "4b8aab9e",
   "metadata": {
    "vscode": {
     "languageId": "plaintext"
    }
   },
   "outputs": [],
   "source": [
    "traffic_light = \"red\"\n",
    "\n",
    "vehicle_type = “ambulance”\n",
    "\n",
    "if traffic_light == \"green\" or vehicle_type == \"ambulance\":\n",
    "\n",
    "    print(\"You can go\")\n",
    "\n",
    "else:\n",
    "\n",
    "    print(\"You must stop\")"
   ]
  },
  {
   "cell_type": "markdown",
   "id": "ec252d45",
   "metadata": {},
   "source": [
    "NOT Operator"
   ]
  },
  {
   "cell_type": "code",
   "execution_count": null,
   "id": "3227ed5a",
   "metadata": {
    "vscode": {
     "languageId": "plaintext"
    }
   },
   "outputs": [],
   "source": [
    "pedestrian_signal = “don't walk”\n",
    "\n",
    "if not pedestrian_signal == \"walk\":\n",
    "\n",
    "    print(\"Do not cross\")\n",
    "\n",
    "else:\n",
    "\n",
    "    print(\"You can cross\")"
   ]
  },
  {
   "cell_type": "markdown",
   "id": "f7841ce8",
   "metadata": {},
   "source": [
    "Case Sensitivity in Conditions\n",
    "Python is case-sensitive, so conditions must match the exact case of the string."
   ]
  },
  {
   "cell_type": "code",
   "execution_count": null,
   "id": "472b6ea2",
   "metadata": {
    "vscode": {
     "languageId": "plaintext"
    }
   },
   "outputs": [],
   "source": [
    "traffic_light = \"Red\"\n",
    "\n",
    "if traffic_light == \"red\":\n",
    "\n",
    "    print(\"You must stop\")\n",
    "\n",
    "else:\n",
    "\n",
    "    print(\"Slow down and prepare to stop\")"
   ]
  }
 ],
 "metadata": {
  "language_info": {
   "name": "python"
  }
 },
 "nbformat": 4,
 "nbformat_minor": 5
}
