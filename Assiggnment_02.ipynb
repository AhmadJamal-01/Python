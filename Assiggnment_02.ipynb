{
  "nbformat": 4,
  "nbformat_minor": 0,
  "metadata": {
    "colab": {
      "provenance": [],
      "authorship_tag": "ABX9TyN2kKgKVOdKxIRKKorIPgKW",
      "include_colab_link": true
    },
    "kernelspec": {
      "name": "python3",
      "display_name": "Python 3"
    },
    "language_info": {
      "name": "python"
    }
  },
  "cells": [
    {
      "cell_type": "markdown",
      "metadata": {
        "id": "view-in-github",
        "colab_type": "text"
      },
      "source": [
        "<a href=\"https://colab.research.google.com/github/AhmadJamal-01/Python/blob/main/Assiggnment_02.ipynb\" target=\"_parent\"><img src=\"https://colab.research.google.com/assets/colab-badge.svg\" alt=\"Open In Colab\"/></a>"
      ]
    },
    {
      "cell_type": "markdown",
      "source": [
        "Question 1: Variables and Data Types\n",
        "\n",
        "1. Accepts a string, an integer, a float, and a boolean from the user.\n",
        "2. Initializes variables for each type, and prints them out.\n",
        "3. Convert the string to uppercase and print it.\n",
        "4. Check if the integer is even or odd and print the result.\n",
        "5. Multiply the float by 2 and print the result.\n"
      ],
      "metadata": {
        "id": "OqefyeLLy2W5"
      }
    },
    {
      "cell_type": "code",
      "execution_count": null,
      "metadata": {
        "id": "0_UuDI358lNz",
        "colab": {
          "base_uri": "https://localhost:8080/"
        },
        "outputId": "f85ae60e-5e8e-4561-b0ad-f92a4c99c483"
      },
      "outputs": [
        {
          "output_type": "stream",
          "name": "stdout",
          "text": [
            "Enter a string: Ahmad Jamal\n",
            "Enter a float: 3.4\n",
            "Enter an integer: 23\n",
            "Enter a boolean (True or False): True\n",
            "String Variable: Ahmad Jamal\n",
            "Float Variable: 3.4\n",
            "Integer Variable: 23\n",
            "Boolean Variable: True\n",
            "Uppercase String: AHMAD JAMAL\n",
            "The integer 23 is odd.\n",
            "Float after multiplied is 6.8.\n"
          ]
        }
      ],
      "source": [
        "#Accept a string input from the user\n",
        "user_string = input(\"Enter a string: \")\n",
        "\n",
        "#Accept a float input from the user\n",
        "user_float = float(input(\"Enter a float: \"))\n",
        "\n",
        "#Accept an integer input from the user\n",
        "user_integer = int(input(\"Enter an integer: \"))\n",
        "\n",
        "#Accept a boolean input from the user\n",
        "user_boolean = input(\"Enter a boolean (True or False): \")\n",
        "\n",
        "#2. Initialize Variables\n",
        "string_variable = user_string\n",
        "float_variable = user_float\n",
        "integer_variable = user_integer\n",
        "boolean_variable = user_boolean\n",
        "\n",
        "#Print variables\n",
        "print(\"String Variable:\", string_variable)\n",
        "print(\"Float Variable:\", float_variable)\n",
        "print(\"Integer Variable:\", integer_variable)\n",
        "print(\"Boolean Variable:\", boolean_variable)\n",
        "\n",
        "#3. Convert the string to uppercase and print it.\n",
        "\n",
        "uppercase_string = string_variable.upper()\n",
        "print(\"Uppercase String:\", uppercase_string)\n",
        "\n",
        "#4.Check if the integer is even or odd and print the result.\n",
        "\n",
        "if integer_variable % 2 == 0:\n",
        "  print(f\"The integer {integer_variable} is even.\")\n",
        "else:\n",
        "  print(f\"The integer {integer_variable } is odd.\")\n",
        "\n",
        "#5. Multiply the float by 2 and print the result.\n",
        "\n",
        "multiplied_float = float_variable * 2\n",
        "print(f\"Float after multiplied is {multiplied_float}.\")"
      ]
    },
    {
      "cell_type": "markdown",
      "source": [
        "Question 2: Operators Problem:\n",
        "Problem: Write a Python program that:\n",
        "1. Accepts two numbers as input from the user.\n",
        "2. Performs and prints the result of all the arithmetic operations (addition, subtraction,\n",
        "multiplication, division, modulus, flow division) between these two numbers.\n",
        "3. Use comparison operators to check if the first number is greater than the second, and if they\n",
        "are equal.\n",
        "4. Use logical operators to combine two conditions (e.g., the first number is greater than the\n",
        "second, and the second number is less than 10)"
      ],
      "metadata": {
        "id": "gwbFpFlw97ts"
      }
    },
    {
      "cell_type": "code",
      "source": [
        "# Accepts two numbers as input from the user.\n",
        "\n",
        "enter_first_number = float(input(\"Enter the first number: \"))\n",
        "enter_second_number = float(input(\"Enter the second number: \"))\n",
        "\n",
        "#Performs and prints the result of all the arithmetic operations (addition, subtraction, multiplication, division, modulus, flow division) between these two numbers.\n",
        "\n",
        "#addition\n",
        "addition_result = enter_first_number + enter_second_number\n",
        "print(\"Addition : \", addition_result )\n",
        "\n",
        "#substraction\n",
        "subtraction_result = enter_first_number - enter_second_number\n",
        "print(\"Subtraction : \", subtraction_result )\n",
        "\n",
        "#multiplication\n",
        "multiplication_result = enter_first_number * enter_second_number\n",
        "print(\"Multipication : \", multiplication_result)\n",
        "\n",
        "if enter_second_number != 0:\n",
        "  #modulus\n",
        "  modulus_result = enter_first_number % enter_second_number\n",
        "  print(\"Modulus : \", modulus_result )\n",
        "\n",
        "  #division\n",
        "  division_result = enter_first_number / enter_second_number\n",
        "  print(\"Division : \", division_result )\n",
        "\n",
        "  #flow division\n",
        "  flow_division_result = enter_first_number // enter_second_number\n",
        "  print(\"Flow Division : \", flow_division_result )\n",
        "else:\n",
        "  print(\"Division, Flow Division and Modulus by zero is not allowed.\")\n",
        "\n",
        "#3. Use comparison operators to check if the first number is greater than the second, and if they are equal.\n",
        "\n",
        "if enter_first_number > enter_second_number:\n",
        " print(f\"First number {enter_first_number} is greater than second number {enter_second_number}.\")\n",
        "else:\n",
        "  print(f\"First number {enter_first_number} is not greater than second number {enter_second_number}.\")\n",
        "\n",
        "if enter_first_number == enter_second_number:\n",
        "    print(f\"First number {enter_first_number} is equal to second number {enter_second_number}.\")\n",
        "else:\n",
        "    print(f\"First number {enter_first_number} is not equal to second number {enter_second_number}.\")\n",
        "\n",
        "#4. Use logical operators to combine two conditions (e.g., the first number is greater than the second, and the second number is less than 10)\n",
        "\n",
        "if enter_first_number > enter_second_number and enter_second_number < 10:\n",
        "  print(f\"First number {enter_first_number} is greater than second number {enter_second_number} and second number is less than 10.\")\n",
        "else:\n",
        "  print(f\"First number {enter_first_number} is not greater than second number {enter_second_number}.\")"
      ],
      "metadata": {
        "colab": {
          "base_uri": "https://localhost:8080/"
        },
        "id": "0mfl-cDxMyXG",
        "outputId": "f767bc8d-1499-4123-dbf6-cdaef704cbc2"
      },
      "execution_count": null,
      "outputs": [
        {
          "output_type": "stream",
          "name": "stdout",
          "text": [
            "Enter the first number: 8\n",
            "Enter the second number: 7\n",
            "Addition :  15.0\n",
            "Subtraction :  1.0\n",
            "Multipication :  56.0\n",
            "Modulus :  1.0\n",
            "Division :  1.1428571428571428\n",
            "Flow Division :  1.0\n",
            "First number 8.0 is greater than second number 7.0.\n",
            "First number 8.0 is not equal to second number 7.0.\n",
            "First number 8.0 is greater than second number 7.0 and second number is less than 10.\n"
          ]
        }
      ]
    },
    {
      "cell_type": "markdown",
      "source": [
        "Question 3: Loops Problem:\n",
        "Problem: Write a Python program that:\n",
        "1. Accepts a list of integers from the user.\n",
        "2. Loops through the list and prints out each number.\n",
        "3. If a number is greater than 10, skip it using the continue statement.\n",
        "4. Stop the loop if the number is 20 using the break statement.\n",
        "5. After the loop ends, print a message that the loop ended naturally."
      ],
      "metadata": {
        "id": "QoegqaS4WOGV"
      }
    },
    {
      "cell_type": "code",
      "source": [
        "#1. Accepts a list of integers from the user.\n",
        "list_input = list(map(int, input(\"Enter integers separated by spaces: \").split()))\n",
        "print(\"User List = \", list_input)\n",
        "\n",
        "#2.Loops through the list and prints out each number.\n",
        "\n",
        "for number in list_input:\n",
        "  print(number)\n",
        "\n",
        "#3. If a number is greater than 10, skip it using the continue statement.\n",
        "\n",
        "for number in list_input:\n",
        "  if number > 10:\n",
        "    print(f\"Skipping number {number} because it is greater than 10.\")\n",
        "    continue\n",
        "  print(number)\n",
        "\n",
        "#4. Stop the loop if the number is 20 using the break statement.\n",
        "for number in list_input:\n",
        "  if number == 20:\n",
        "    print(f\"Breaking the loop at number {number} because it is equal to 20.\")\n",
        "    break\n",
        "#5. After the loop ends, print a message that the loop ended naturally.\n",
        "print(\"The loop ended naturally.\")"
      ],
      "metadata": {
        "colab": {
          "base_uri": "https://localhost:8080/"
        },
        "id": "cl_apogwWRZL",
        "outputId": "17230812-6e5f-45f6-9c0c-97c04568d346"
      },
      "execution_count": null,
      "outputs": [
        {
          "output_type": "stream",
          "name": "stdout",
          "text": [
            "Enter integers separated by spaces: 2 3 4 33 1 20 5 7\n",
            "User List =  [2, 3, 4, 33, 1, 20, 5, 7]\n",
            "2\n",
            "3\n",
            "4\n",
            "33\n",
            "1\n",
            "20\n",
            "5\n",
            "7\n",
            "2\n",
            "3\n",
            "4\n",
            "Skipping number 33 because it is greater than 10.\n",
            "1\n",
            "Skipping number 20 because it is greater than 10.\n",
            "5\n",
            "7\n",
            "Breaking the loop at number 20 because it is equal to 20.\n"
          ]
        }
      ]
    }
  ]
}